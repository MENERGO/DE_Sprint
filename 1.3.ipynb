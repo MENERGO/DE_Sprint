{
 "cells": [
  {
   "cell_type": "markdown",
   "metadata": {
    "collapsed": true,
    "pycharm": {
     "name": "#%% md\n"
    }
   },
   "source": [
    "# Практическая работа №2 Основы Python"
   ]
  },
  {
   "cell_type": "markdown",
   "source": [
    "## Задача 1"
   ],
   "metadata": {
    "collapsed": false,
    "pycharm": {
     "name": "#%% md\n"
    }
   }
  },
  {
   "cell_type": "markdown",
   "source": [
    "Необходимо спарсить данные о вакансиях python разработчиков с сайта hh.ru, введя в поиск “python разработчик” и указав,\n",
    "что мы рассматриваем все регионы. Необходимо спарсить:\n",
    "*Название вакансии\n",
    "*Требуемый опыт работы\n",
    "*Заработную плату\n",
    "*Регион\n",
    "\n",
    "И сохранить эти данные в формате json в следующем виде:\n",
    "<img src=\"https://lhd8ts4trw.a.trbcdn.net/cdn/yusuciqe45/00_data_engineer/pic/1_3_question.png\" style=\"width: 40%\">"
   ],
   "metadata": {
    "collapsed": false,
    "pycharm": {
     "name": "#%% md\n"
    }
   }
  },
  {
   "cell_type": "markdown",
   "source": [
    "### Импорт библиотек"
   ],
   "metadata": {
    "collapsed": false,
    "pycharm": {
     "name": "#%% md\n"
    }
   }
  },
  {
   "cell_type": "code",
   "execution_count": 153,
   "outputs": [],
   "source": [
    "import json\n",
    "\n",
    "import requests\n",
    "import time\n",
    "from bs4 import BeautifulSoup"
   ],
   "metadata": {
    "collapsed": false,
    "pycharm": {
     "name": "#%%\n"
    }
   }
  },
  {
   "cell_type": "markdown",
   "source": [
    "### Функции"
   ],
   "metadata": {
    "collapsed": false,
    "pycharm": {
     "name": "#%% md\n"
    }
   }
  },
  {
   "cell_type": "code",
   "execution_count": 154,
   "outputs": [],
   "source": [
    "def get_url(experience, vacancy, on_page, page):\n",
    "    return f'https://hh.ru/search/vacancy?experience={experience}&search_field=name&search_field=company_name&search_field=description&text={vacancy}&no_magic=true&L_save_area=true&items_on_page={on_page}&page={page}&hhtmFrom=vacancy_search_list'\n",
    "\n",
    "\n",
    "def clean_html(string):\n",
    "    if string:\n",
    "        string = str(string)\n",
    "        if 'div' in string:\n",
    "            string = string.split('>')[1].split('<')[0]\n",
    "        elif 'span' in string:\n",
    "            string = string.split('\">')[1].split('</')[0]\n",
    "            string = string.replace('<!-- -->', '').replace('  ', ' ').replace('\\u202f', ' ')\n",
    "        else:\n",
    "            string = string.split('>')[1].split('<')[0]\n",
    "        return string"
   ],
   "metadata": {
    "collapsed": false,
    "pycharm": {
     "name": "#%%\n"
    }
   }
  },
  {
   "cell_type": "markdown",
   "source": [
    "### Переменные"
   ],
   "metadata": {
    "collapsed": false,
    "pycharm": {
     "name": "#%% md\n"
    }
   }
  },
  {
   "cell_type": "code",
   "execution_count": 166,
   "outputs": [],
   "source": [
    "on_page = '20'\n",
    "vacancy = 'python+разработчик'\n",
    "experiences = [\n",
    "    'between3And6',\n",
    "    'between1And3',\n",
    "    'noExperience',\n",
    "    'moreThan6'\n",
    "]\n",
    "experiences_for_dict = [\n",
    "    'От 3 до 6 лет',\n",
    "    'От 1 года до 3 лет',\n",
    "    'Нет опыта',\n",
    "    'Более 6 лет'\n",
    "]\n",
    "url_main_search_page = 'https://hh.ru/search/vacancy?no_magic=true&L_save_area=true&text=python+разработчик&salary=&currency_code=RUR&experience=doesNotMatter&order_by=relevance&search_period=0&items_on_page=20'"
   ],
   "metadata": {
    "collapsed": false,
    "pycharm": {
     "name": "#%%\n"
    }
   }
  },
  {
   "cell_type": "markdown",
   "source": [
    "### Определяем количество вакансий в разрезе по опыту"
   ],
   "metadata": {
    "collapsed": false,
    "pycharm": {
     "name": "#%% md\n"
    }
   }
  },
  {
   "cell_type": "code",
   "execution_count": 167,
   "outputs": [],
   "source": [
    "headers = {\n",
    "    'user-agent': 'Mozilla/5.0 (Macintosh; Intel Mac OS X 10_11_6) AppleWebKit/537.36 (KHTML, like Gecko) Chrome/53.0.2785.143 Safari/537.36'\n",
    "}\n",
    "\n",
    "main_search_page = requests.get(url_main_search_page, headers=headers, timeout=5)"
   ],
   "metadata": {
    "collapsed": false,
    "pycharm": {
     "name": "#%%\n"
    }
   }
  },
  {
   "cell_type": "code",
   "execution_count": 168,
   "outputs": [],
   "source": [
    "soup_main_search_page = BeautifulSoup(main_search_page.text, 'lxml')"
   ],
   "metadata": {
    "collapsed": false,
    "pycharm": {
     "name": "#%%\n"
    }
   }
  },
  {
   "cell_type": "code",
   "execution_count": 169,
   "outputs": [],
   "source": [
    "list_of_params = soup_main_search_page.find_all(\n",
    "    \"span\"\n",
    "    , {\n",
    "        \"class\"\n",
    "        :\n",
    "            \"bloko-text bloko-text_tertiary\"\n",
    "    })"
   ],
   "metadata": {
    "collapsed": false,
    "pycharm": {
     "name": "#%%\n"
    }
   }
  },
  {
   "cell_type": "code",
   "execution_count": 170,
   "outputs": [
    {
     "data": {
      "text/plain": "[2276, 1874, 612, 214]"
     },
     "execution_count": 170,
     "metadata": {},
     "output_type": "execute_result"
    }
   ],
   "source": [
    "count_of_pages = []\n",
    "for n, i in enumerate(list_of_params[21:25]):\n",
    "    i = str(i).replace('\\u202f', '')\n",
    "    x = i.split('>')[1].split('<')[0]\n",
    "    count_of_pages.append(int(x))\n",
    "count_of_pages"
   ],
   "metadata": {
    "collapsed": false,
    "pycharm": {
     "name": "#%%\n"
    }
   }
  },
  {
   "cell_type": "markdown",
   "source": [
    "### Делаем обход страниц по заданным параметрам поиска"
   ],
   "metadata": {
    "collapsed": false,
    "pycharm": {
     "name": "#%% md\n"
    }
   }
  },
  {
   "cell_type": "code",
   "execution_count": 176,
   "outputs": [
    {
     "name": "stdout",
     "output_type": "stream",
     "text": [
      "2000\n"
     ]
    }
   ],
   "source": [
    "dict_to_write = {'data': []}\n",
    "for n, experience in enumerate(experiences):\n",
    "    for page in range(count_of_pages[n] // int(on_page) + 1):\n",
    "        target_page = get_url(experience, vacancy, on_page, page)\n",
    "        html_target_page = requests.get(target_page, headers=headers, timeout=5)\n",
    "        time.sleep(3)\n",
    "        soup = BeautifulSoup(html_target_page.text, 'lxml')\n",
    "        for link in soup.find_all('div', class_='vacancy-serp-item-body'):\n",
    "            title = link.find(\"a\", {\"data-qa\": \"serp-item__title\"}).text\n",
    "            salary = clean_html(link.find(\"span\", {\"data-qa\": \"vacancy-serp__vacancy-compensation\"}))\n",
    "            region = clean_html(link.find(\"div\", {\"data-qa\": \"vacancy-serp__vacancy-address\"}))\n",
    "            dict_to_write['data'].append({\n",
    "                'title': title,\n",
    "                'work experience': experiences_for_dict[n],\n",
    "                'salary': salary,\n",
    "                'region': region\n",
    "            })\n",
    "            with open(f'{n}_data_{experience}.json', 'w', encoding='utf-8') as file:\n",
    "                json.dump(dict_to_write, file, ensure_ascii=False)\n",
    "    time.sleep(30)\n",
    "    print(len(dict_to_write['data']))\n",
    "    dict_to_write = {'data': []}"
   ],
   "metadata": {
    "collapsed": false,
    "pycharm": {
     "name": "#%%\n"
    }
   }
  },
  {
   "cell_type": "markdown",
   "source": [
    "## Задача 2"
   ],
   "metadata": {
    "collapsed": false,
    "pycharm": {
     "name": "#%% md\n"
    }
   }
  },
  {
   "cell_type": "markdown",
   "source": [
    "**Палиндром строки**\n",
    "\n",
    "Дана строка X, возвращайте True, если X является палиндромом.\n",
    "\n",
    "Строка является палиндромом тогда, когда она читается одинаково как в обратном, так и в прямом направлении.\n",
    "\n",
    "Например, является “taco cat” является палиндромом, в то время как “black cat” не является.\n",
    "В данной задаче пробелы не учитываются.\n",
    "\n",
    "Гарантируется, что исходная строка может содержать символы только нижнего регистра."
   ],
   "metadata": {
    "collapsed": false,
    "pycharm": {
     "name": "#%% md\n"
    }
   }
  },
  {
   "cell_type": "code",
   "execution_count": 177,
   "outputs": [],
   "source": [
    "def check_poly(x):\n",
    "    x = x.replace(' ', '')\n",
    "    return x == x[::-1]"
   ],
   "metadata": {
    "collapsed": false,
    "pycharm": {
     "name": "#%%\n"
    }
   }
  },
  {
   "cell_type": "code",
   "execution_count": 178,
   "outputs": [
    {
     "data": {
      "text/plain": "True"
     },
     "execution_count": 178,
     "metadata": {},
     "output_type": "execute_result"
    }
   ],
   "source": [
    "check_poly('taco cat')"
   ],
   "metadata": {
    "collapsed": false,
    "pycharm": {
     "name": "#%%\n"
    }
   }
  },
  {
   "cell_type": "code",
   "execution_count": 179,
   "outputs": [
    {
     "data": {
      "text/plain": "False"
     },
     "execution_count": 179,
     "metadata": {},
     "output_type": "execute_result"
    }
   ],
   "source": [
    "check_poly('tacdo cat')"
   ],
   "metadata": {
    "collapsed": false,
    "pycharm": {
     "name": "#%%\n"
    }
   }
  },
  {
   "cell_type": "markdown",
   "source": [
    "## Задача 3"
   ],
   "metadata": {
    "collapsed": false,
    "pycharm": {
     "name": "#%% md\n"
    }
   }
  },
  {
   "cell_type": "markdown",
   "source": [
    "**Перевод арабского числа в римское**\n",
    "\n",
    "Дано целое положительное число X, необходимо вывести вариант этого числа в римской системе счисления в формате строки.\n",
    "\n",
    "<img src=\"https://lhd8ts4trw.a.trbcdn.net/cdn/yusuciqe45/00_data_engineer/pic/1_3_table.png\" style=\"width: 40%\">\n",
    "\n",
    "Римские числа записываются от наибольшего числа к наименьшему слева направо.\n",
    "\n",
    "Однако число 4 не является “IIII”. Вместо этого число 4 записывается, как “IV”. Т.к. 1 стоит перед 5, мы вычитаем 1, делая 4. Тот же принцип применим к числу 9, которое записывается как “IX”.\n",
    "\n",
    "Случаи, когда используется вычитание:\n",
    "\n",
    "I может быть помещен перед V и X, чтобы сделать 4 и 9.\n",
    "\n",
    "X может быть помещен перед L и C, чтобы составить 40 и 90.\n",
    "\n",
    "C может быть помещен перед D и M, чтобы составить 400 и 900.\n",
    "\n"
   ],
   "metadata": {
    "collapsed": false,
    "pycharm": {
     "name": "#%% md\n"
    }
   }
  },
  {
   "cell_type": "code",
   "execution_count": 180,
   "outputs": [],
   "source": [
    "def int_to_roman(num):\n",
    "    def add_to_result(res, x, n):\n",
    "        x: int = int(x)\n",
    "        if x == 9:\n",
    "            res = res + itr_2[9 * 10 ** n]\n",
    "        elif x == 4:\n",
    "            res = res + itr_2[4 * 10 ** n]\n",
    "        else:\n",
    "            f: int = x // 5\n",
    "            e: int = x - 5 * f\n",
    "            res = res + itr[5 * 10 ** n] * f + itr[1 * 10 ** n] * e\n",
    "        return res\n",
    "\n",
    "    itr = {\n",
    "        1: 'I',\n",
    "        5: 'V',\n",
    "        10: 'X',\n",
    "        50: 'L',\n",
    "        100: 'C',\n",
    "        500: 'D',\n",
    "        1000: 'M',\n",
    "    }\n",
    "    itr_2 = {\n",
    "        4: 'IV',\n",
    "        9: 'IX',\n",
    "        40: 'XL',\n",
    "        90: 'XC',\n",
    "        400: 'CD',\n",
    "        900: 'CM',\n",
    "    }\n",
    "    result: str = ''\n",
    "    string_num: str = str(num)\n",
    "    if len(string_num) == 4:\n",
    "        result = itr[1000] * int(string_num[0])\n",
    "        string_num = string_num[1:]\n",
    "    if len(string_num) in [3, 4]:\n",
    "        result = add_to_result(result, string_num[0], 2)\n",
    "        result = add_to_result(result, string_num[1], 1)\n",
    "        result = add_to_result(result, string_num[2], 0)\n",
    "    if len(string_num) == 2:\n",
    "        result = add_to_result(result, string_num[0], 1)\n",
    "        result = add_to_result(result, string_num[1], 0)\n",
    "    if len(string_num) == 1:\n",
    "        result = add_to_result(result, string_num[0], 0)\n",
    "    return result"
   ],
   "metadata": {
    "collapsed": false,
    "pycharm": {
     "name": "#%%\n"
    }
   }
  },
  {
   "cell_type": "code",
   "execution_count": 181,
   "outputs": [
    {
     "data": {
      "text/plain": "'CLXXIV'"
     },
     "execution_count": 181,
     "metadata": {},
     "output_type": "execute_result"
    }
   ],
   "source": [
    "int_to_roman(174)"
   ],
   "metadata": {
    "collapsed": false,
    "pycharm": {
     "name": "#%%\n"
    }
   }
  },
  {
   "cell_type": "markdown",
   "source": [
    "## Задача 4"
   ],
   "metadata": {
    "collapsed": false,
    "pycharm": {
     "name": "#%% md\n"
    }
   }
  },
  {
   "cell_type": "markdown",
   "source": [
    "**Валидность скобок**\n",
    "\n",
    "Дана строка X, состоящая только из символов “{“, “}”, “[“, “]”, “(“, “)”. Программа должна вывести True, в том случае если все открытые скобки закрыты. Например: “[()]{}”, все открытые скобки закрыты закрывающимися скобками, потому вывод будет True. В случае же, если строка будет похожа на: “{{{}”, то вывод будет False, т.к. не все открытые скобки закрыты."
   ],
   "metadata": {
    "collapsed": false,
    "pycharm": {
     "name": "#%% md\n"
    }
   }
  },
  {
   "cell_type": "code",
   "execution_count": 182,
   "outputs": [],
   "source": [
    "def close_bracket(x):\n",
    "    while True:\n",
    "        len_x = len(x)\n",
    "        x = x.replace('()', '').replace('{}', '').replace('[]', '')\n",
    "        if len_x == len(x):\n",
    "            break\n",
    "    if len_x != 0:\n",
    "        return False\n",
    "    return True"
   ],
   "metadata": {
    "collapsed": false,
    "pycharm": {
     "name": "#%%\n"
    }
   }
  },
  {
   "cell_type": "code",
   "execution_count": 183,
   "outputs": [
    {
     "data": {
      "text/plain": "True"
     },
     "execution_count": 183,
     "metadata": {},
     "output_type": "execute_result"
    }
   ],
   "source": [
    "close_bracket('[()]{}')"
   ],
   "metadata": {
    "collapsed": false,
    "pycharm": {
     "name": "#%%\n"
    }
   }
  },
  {
   "cell_type": "code",
   "execution_count": 184,
   "outputs": [
    {
     "data": {
      "text/plain": "False"
     },
     "execution_count": 184,
     "metadata": {},
     "output_type": "execute_result"
    }
   ],
   "source": [
    "close_bracket('[({)]{}')"
   ],
   "metadata": {
    "collapsed": false,
    "pycharm": {
     "name": "#%%\n"
    }
   }
  },
  {
   "cell_type": "code",
   "execution_count": 185,
   "outputs": [
    {
     "data": {
      "text/plain": "False"
     },
     "execution_count": 185,
     "metadata": {},
     "output_type": "execute_result"
    }
   ],
   "source": [
    "close_bracket('}')"
   ],
   "metadata": {
    "collapsed": false,
    "pycharm": {
     "name": "#%%\n"
    }
   }
  },
  {
   "cell_type": "markdown",
   "source": [
    "## Задача 5"
   ],
   "metadata": {
    "collapsed": false,
    "pycharm": {
     "name": "#%% md\n"
    }
   }
  },
  {
   "cell_type": "markdown",
   "source": [
    "**Умножить два бинарных числа в формате строк**\n",
    "\n",
    "На вход подаются две строки X1 и X2, содержащие бинарные числа.\n",
    "\n",
    "Необходимо вывести их бинарное произведение в формате строки."
   ],
   "metadata": {
    "collapsed": false,
    "pycharm": {
     "name": "#%% md\n"
    }
   }
  },
  {
   "cell_type": "code",
   "execution_count": 188,
   "outputs": [],
   "source": [
    "def multiply_binary(a, b):\n",
    "    if a == '0' and b == \"0\":\n",
    "        return '0'\n",
    "    return str(bin(int(a, 2)*int(b, 2))).lstrip('0b')"
   ],
   "metadata": {
    "collapsed": false,
    "pycharm": {
     "name": "#%%\n"
    }
   }
  },
  {
   "cell_type": "code",
   "execution_count": 189,
   "outputs": [
    {
     "data": {
      "text/plain": "'1101110'"
     },
     "execution_count": 189,
     "metadata": {},
     "output_type": "execute_result"
    }
   ],
   "source": [
    "multiply_binary(a = \"1010\", b = \"1011\")"
   ],
   "metadata": {
    "collapsed": false,
    "pycharm": {
     "name": "#%%\n"
    }
   }
  },
  {
   "cell_type": "code",
   "execution_count": 190,
   "outputs": [
    {
     "data": {
      "text/plain": "'0'"
     },
     "execution_count": 190,
     "metadata": {},
     "output_type": "execute_result"
    }
   ],
   "source": [
    "multiply_binary(a = \"0\", b = \"0\")"
   ],
   "metadata": {
    "collapsed": false,
    "pycharm": {
     "name": "#%%\n"
    }
   }
  },
  {
   "cell_type": "code",
   "execution_count": 191,
   "outputs": [
    {
     "data": {
      "text/plain": "'100011'"
     },
     "execution_count": 191,
     "metadata": {},
     "output_type": "execute_result"
    }
   ],
   "source": [
    "multiply_binary(a = \"111\", b = \"101\")"
   ],
   "metadata": {
    "collapsed": false,
    "pycharm": {
     "name": "#%%\n"
    }
   }
  }
 ],
 "metadata": {
  "kernelspec": {
   "display_name": "Python 3",
   "language": "python",
   "name": "python3"
  },
  "language_info": {
   "codemirror_mode": {
    "name": "ipython",
    "version": 2
   },
   "file_extension": ".py",
   "mimetype": "text/x-python",
   "name": "python",
   "nbconvert_exporter": "python",
   "pygments_lexer": "ipython2",
   "version": "2.7.6"
  }
 },
 "nbformat": 4,
 "nbformat_minor": 0
}